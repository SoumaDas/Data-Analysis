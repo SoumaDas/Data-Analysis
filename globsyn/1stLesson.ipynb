{
 "cells": [
  {
   "cell_type": "code",
   "execution_count": 7,
   "id": "dc4c6137-3b01-4489-b836-0df2210b12fa",
   "metadata": {},
   "outputs": [],
   "source": [
    "import numpy as np"
   ]
  },
  {
   "cell_type": "code",
   "execution_count": 55,
   "id": "d33cd120-ec30-4f45-a42b-7d4f81dea25f",
   "metadata": {},
   "outputs": [
    {
     "name": "stdout",
     "output_type": "stream",
     "text": [
      "[11.   1.2]\n"
     ]
    }
   ],
   "source": [
    "a = np.array([11, 1.2])\n",
    "print(a)"
   ]
  },
  {
   "cell_type": "code",
   "execution_count": 57,
   "id": "ea3db0be-34ed-4152-b74e-70a44fea9595",
   "metadata": {},
   "outputs": [
    {
     "name": "stdout",
     "output_type": "stream",
     "text": [
      "(2,)\n",
      "1\n",
      "float64\n",
      "<class 'numpy.ndarray'>\n"
     ]
    }
   ],
   "source": [
    "print(a.shape)\n",
    "print(a.ndim)\n",
    "print(a.dtype)\n",
    "print(type(a))"
   ]
  },
  {
   "cell_type": "code",
   "execution_count": 9,
   "id": "dffc1070-f20a-4299-abf6-aa7bb7bcfa4b",
   "metadata": {},
   "outputs": [],
   "source": [
    "l1 = list(range(10000))"
   ]
  },
  {
   "cell_type": "code",
   "execution_count": 11,
   "id": "2f775695-a2d2-41b3-ad54-dfb8e2580df5",
   "metadata": {},
   "outputs": [
    {
     "name": "stdout",
     "output_type": "stream",
     "text": [
      "651 μs ± 2.63 μs per loop (mean ± std. dev. of 7 runs, 1,000 loops each)\n"
     ]
    }
   ],
   "source": [
    "%timeit [x**2 for x in l1]"
   ]
  },
  {
   "cell_type": "code",
   "execution_count": 13,
   "id": "38fd7458-a563-4482-afe3-09372bf1b951",
   "metadata": {},
   "outputs": [
    {
     "name": "stdout",
     "output_type": "stream",
     "text": [
      "6.17 μs ± 38.6 ns per loop (mean ± std. dev. of 7 runs, 100,000 loops each)\n"
     ]
    }
   ],
   "source": [
    "n1 = np.arange(10000)\n",
    "%timeit n1**2"
   ]
  },
  {
   "cell_type": "code",
   "execution_count": 25,
   "id": "8e4d446a-c5ab-4c37-82f8-88ed2f5008f4",
   "metadata": {},
   "outputs": [
    {
     "name": "stdout",
     "output_type": "stream",
     "text": [
      "[[0 0 0 0 0 0]\n",
      " [0 0 0 0 0 0]\n",
      " [0 0 0 0 0 0]\n",
      " [0 0 0 0 0 0]\n",
      " [0 0 0 0 0 0]]\n"
     ]
    }
   ],
   "source": [
    "a1 = np.zeros((5,6), dtype = 'int64') #matrix filled with zeros\n",
    "print(a1) "
   ]
  },
  {
   "cell_type": "code",
   "execution_count": 27,
   "id": "ddf6611f-d109-41be-bbbd-5e83e52cfd60",
   "metadata": {},
   "outputs": [
    {
     "name": "stdout",
     "output_type": "stream",
     "text": [
      "[[1. 1. 1.]\n",
      " [1. 1. 1.]]\n"
     ]
    }
   ],
   "source": [
    "a2 = np.ones((2,3)) #matrix filled with ones\n",
    "print(a2)"
   ]
  },
  {
   "cell_type": "code",
   "execution_count": 63,
   "id": "cd48d420-0e72-48c5-95aa-001ed01c9096",
   "metadata": {},
   "outputs": [
    {
     "name": "stdout",
     "output_type": "stream",
     "text": [
      "[[6.9 6.9 6.9 6.9 6.9]\n",
      " [6.9 6.9 6.9 6.9 6.9]\n",
      " [6.9 6.9 6.9 6.9 6.9]\n",
      " [6.9 6.9 6.9 6.9 6.9]]\n"
     ]
    }
   ],
   "source": [
    "a3 = np.full((4,5), fill_value = 6.9)\n",
    "print(a3)"
   ]
  },
  {
   "cell_type": "code",
   "execution_count": 61,
   "id": "789346c3-eade-494c-97c4-cf84db562427",
   "metadata": {},
   "outputs": [
    {
     "name": "stdout",
     "output_type": "stream",
     "text": [
      "[[1.01855798e-312 1.10343781e-312 1.01855798e-312]\n",
      " [9.54898106e-313 1.01855798e-312 1.01855798e-312]\n",
      " [1.23075756e-312 1.03977794e-312 1.01855798e-312]\n",
      " [9.76118064e-313 1.10343781e-312 1.90979621e-312]]\n"
     ]
    }
   ],
   "source": [
    "a4 = np.empty((4,3))\n",
    "print(a4)"
   ]
  },
  {
   "cell_type": "code",
   "execution_count": 65,
   "id": "ea480eaf-4d8f-437f-ad57-df5b45b496a4",
   "metadata": {},
   "outputs": [
    {
     "name": "stdout",
     "output_type": "stream",
     "text": [
      "[[0 1 0 0]\n",
      " [0 0 1 0]\n",
      " [0 0 0 1]\n",
      " [0 0 0 0]]\n"
     ]
    }
   ],
   "source": [
    "a5 = np.eye(4, k = 1, dtype = int)\n",
    "print(a5)"
   ]
  },
  {
   "cell_type": "code",
   "execution_count": 67,
   "id": "cf583c5b-ae39-427f-9877-a179402a5208",
   "metadata": {},
   "outputs": [
    {
     "name": "stdout",
     "output_type": "stream",
     "text": [
      "[[0 1 2]\n",
      " [3 4 5]\n",
      " [6 7 8]]\n"
     ]
    }
   ],
   "source": [
    "b = np.arange(9).reshape(3,3)\n",
    "print(b)"
   ]
  },
  {
   "cell_type": "code",
   "execution_count": 69,
   "id": "de09e2cc-f7d3-492d-ba14-3649fa03fa05",
   "metadata": {},
   "outputs": [
    {
     "name": "stdout",
     "output_type": "stream",
     "text": [
      "[0 4 8]\n"
     ]
    }
   ],
   "source": [
    "print(np.diag(b))"
   ]
  },
  {
   "cell_type": "code",
   "execution_count": 105,
   "id": "3bfb060a-ba1d-4909-8d3b-17df67a49434",
   "metadata": {},
   "outputs": [
    {
     "name": "stdout",
     "output_type": "stream",
     "text": [
      "[[6 7 8]\n",
      " [3 4 5]\n",
      " [0 1 2]]\n"
     ]
    }
   ],
   "source": [
    "print(np.flipud(b)) #flip the 1st row and last row with each other"
   ]
  },
  {
   "cell_type": "code",
   "execution_count": 107,
   "id": "414d2f6e-d318-4db4-b231-47d579598ff0",
   "metadata": {},
   "outputs": [
    {
     "name": "stdout",
     "output_type": "stream",
     "text": [
      "[[2 1 0]\n",
      " [5 4 3]\n",
      " [8 7 6]]\n"
     ]
    }
   ],
   "source": [
    "print(np.fliplr(b)) #flip the 1st column and last column with each other"
   ]
  },
  {
   "cell_type": "code",
   "execution_count": 75,
   "id": "3694b38f-b949-4da3-95e9-2fb881e37e9f",
   "metadata": {},
   "outputs": [
    {
     "name": "stdout",
     "output_type": "stream",
     "text": [
      "[[1. 0. 0.]\n",
      " [0. 1. 0.]\n",
      " [0. 0. 1.]]\n"
     ]
    }
   ],
   "source": [
    "b1 = np.eye(3)\n",
    "print(b1)"
   ]
  },
  {
   "cell_type": "code",
   "execution_count": 77,
   "id": "b36e1cc3-ff5b-41b8-b041-55bfb1a08dc9",
   "metadata": {},
   "outputs": [
    {
     "name": "stdout",
     "output_type": "stream",
     "text": [
      "[[0. 0. 1.]\n",
      " [0. 1. 0.]\n",
      " [1. 0. 0.]]\n"
     ]
    }
   ],
   "source": [
    "print(np.flipud(b1))"
   ]
  },
  {
   "cell_type": "code",
   "execution_count": 81,
   "id": "07f44497-d2b2-4296-a88c-d1817968d5e5",
   "metadata": {},
   "outputs": [
    {
     "name": "stdout",
     "output_type": "stream",
     "text": [
      "[[1 2 3]\n",
      " [4 5 6]\n",
      " [7 8 9]]\n"
     ]
    }
   ],
   "source": [
    "b2 = np.arange(1,10).reshape(3,3)\n",
    "print(b2)"
   ]
  },
  {
   "cell_type": "code",
   "execution_count": 97,
   "id": "f9704291-d59d-475e-b3ec-c3682ae869be",
   "metadata": {},
   "outputs": [
    {
     "name": "stdout",
     "output_type": "stream",
     "text": [
      "[[7 8 9]\n",
      " [4 5 6]\n",
      " [1 2 3]]\n"
     ]
    }
   ],
   "source": [
    "print(np.flip(b2, axis = 0)) # same works as flipud that means we are  fliping row wise"
   ]
  },
  {
   "cell_type": "code",
   "execution_count": 99,
   "id": "c51ddbc8-a329-4b64-a232-40a2e11002c4",
   "metadata": {},
   "outputs": [
    {
     "name": "stdout",
     "output_type": "stream",
     "text": [
      "[[3 2 1]\n",
      " [6 5 4]\n",
      " [9 8 7]]\n"
     ]
    }
   ],
   "source": [
    "print(np.flip(b2, axis = 1)) #same works as fliplr that means we are fliping column wise"
   ]
  },
  {
   "cell_type": "code",
   "execution_count": 101,
   "id": "d9bf9d5f-4f32-48b9-b963-948d3d3b8a11",
   "metadata": {},
   "outputs": [
    {
     "name": "stdout",
     "output_type": "stream",
     "text": [
      "[[ 1  2  3]\n",
      " [ 4  5  6]\n",
      " [ 7  8  9]\n",
      " [10 11 12]]\n"
     ]
    }
   ],
   "source": [
    "b3 = np.arange(1,13).reshape(4,3)\n",
    "print(b3)"
   ]
  },
  {
   "cell_type": "code",
   "execution_count": 103,
   "id": "f6efdf6d-aba3-49a6-98ee-0181cfefb978",
   "metadata": {},
   "outputs": [
    {
     "name": "stdout",
     "output_type": "stream",
     "text": [
      "[[ 1  4  7 10]\n",
      " [ 2  5  8 11]\n",
      " [ 3  6  9 12]]\n"
     ]
    }
   ],
   "source": [
    "print(np.transpose(b3))"
   ]
  },
  {
   "cell_type": "code",
   "execution_count": 109,
   "id": "8f7d6508-fd2a-4492-91c3-a874ae2432e5",
   "metadata": {},
   "outputs": [
    {
     "name": "stdout",
     "output_type": "stream",
     "text": [
      "[[[ 1  2  3]\n",
      "  [ 4  5  6]]\n",
      "\n",
      " [[ 7  8  9]\n",
      "  [10 11 12]]]\n"
     ]
    }
   ],
   "source": [
    "print(b3.reshape(2,2,3))"
   ]
  },
  {
   "cell_type": "code",
   "execution_count": 111,
   "id": "a874753c-6fe6-4ce1-ab35-2f628775af45",
   "metadata": {},
   "outputs": [
    {
     "name": "stdout",
     "output_type": "stream",
     "text": [
      "[[ 1  2  3]\n",
      " [ 4  5  6]\n",
      " [ 7  8  9]\n",
      " [10 11 12]]\n"
     ]
    }
   ],
   "source": [
    "c = np.arange(1,13).reshape(4,-1)\n",
    "print(c)"
   ]
  },
  {
   "cell_type": "code",
   "execution_count": 115,
   "id": "8254e71b-9569-4164-bea2-536f7eee021a",
   "metadata": {},
   "outputs": [
    {
     "name": "stdout",
     "output_type": "stream",
     "text": [
      "[0 1 2 3 4 5 6 7 8 9]\n"
     ]
    }
   ],
   "source": [
    "a = np.arange(10)\n",
    "print(a)"
   ]
  },
  {
   "cell_type": "code",
   "execution_count": 117,
   "id": "874dc14d-882b-4b81-b0d1-79fa88482397",
   "metadata": {},
   "outputs": [
    {
     "name": "stdout",
     "output_type": "stream",
     "text": [
      "[[0]\n",
      " [1]\n",
      " [2]\n",
      " [3]\n",
      " [4]\n",
      " [5]\n",
      " [6]\n",
      " [7]\n",
      " [8]\n",
      " [9]]\n"
     ]
    }
   ],
   "source": [
    "a1 = a.reshape(10,-1)\n",
    "print(a1)"
   ]
  },
  {
   "cell_type": "code",
   "execution_count": 119,
   "id": "ff8b49f0-0452-483f-84df-9bff790dd096",
   "metadata": {},
   "outputs": [
    {
     "name": "stdout",
     "output_type": "stream",
     "text": [
      "(10, 1)\n"
     ]
    }
   ],
   "source": [
    "print(a1.shape)"
   ]
  },
  {
   "cell_type": "code",
   "execution_count": 131,
   "id": "6e4e4af1-4efb-4a23-b1f9-f0ea3138ee5f",
   "metadata": {},
   "outputs": [
    {
     "name": "stdout",
     "output_type": "stream",
     "text": [
      "flatten [0 1 2 3 4 5 6 7 8] and ravel [0 1 2 3 4 5 6 7 8] both methods negates all dimensions excepts one\n"
     ]
    }
   ],
   "source": [
    "b = np.arange(9).reshape(3,3)\n",
    "print(f'flatten {b.flatten()} and ravel {np.ravel(b)} both methods negates all dimensions excepts one')"
   ]
  },
  {
   "cell_type": "code",
   "execution_count": 133,
   "id": "22dc1f1c-8a2c-4d11-b961-3e8d169ee782",
   "metadata": {},
   "outputs": [
    {
     "name": "stdout",
     "output_type": "stream",
     "text": [
      "[0 1 2 3 4 5 6 7 8 9]\n"
     ]
    }
   ],
   "source": [
    "c = np.arange(10)\n",
    "print(c)"
   ]
  },
  {
   "cell_type": "code",
   "execution_count": 137,
   "id": "c20e6fd5-57b2-4cae-9a50-571fa7cc9bcd",
   "metadata": {},
   "outputs": [
    {
     "name": "stdout",
     "output_type": "stream",
     "text": [
      "(array([0.        , 0.55555556, 1.11111111, 1.66666667, 2.22222222,\n",
      "       2.77777778, 3.33333333, 3.88888889, 4.44444444, 5.        ]), 0.5555555555555556)\n"
     ]
    }
   ],
   "source": [
    "c = np.linspace(0, 5, num = 10, endpoint = True, retstep = True)\n",
    "print(c)"
   ]
  },
  {
   "cell_type": "code",
   "execution_count": 161,
   "id": "e52f6a67-87f3-48cb-ae4b-a2e3c652bc9a",
   "metadata": {},
   "outputs": [
    {
     "name": "stdout",
     "output_type": "stream",
     "text": [
      "[[0.68639978 0.93940343 0.82720454]\n",
      " [0.08843936 0.55646515 0.5672129 ]\n",
      " [0.82843115 0.16588926 0.98170657]]\n"
     ]
    }
   ],
   "source": [
    "print(np.random.random(size=(3,3)))"
   ]
  },
  {
   "cell_type": "code",
   "execution_count": 167,
   "id": "4ce8ce98-6d63-49d5-be03-00fa5092ef9f",
   "metadata": {},
   "outputs": [
    {
     "name": "stdout",
     "output_type": "stream",
     "text": [
      "4961\n"
     ]
    }
   ],
   "source": [
    "print(np.random.binomial(10000, 0.5))"
   ]
  },
  {
   "cell_type": "code",
   "execution_count": 171,
   "id": "d3433343-2f81-4057-8539-7cd375a672d3",
   "metadata": {},
   "outputs": [
    {
     "name": "stdout",
     "output_type": "stream",
     "text": [
      "[[-0.14547328 -0.46123674]\n",
      " [ 0.42068296 -2.47601947]\n",
      " [ 0.99311968  0.54224005]\n",
      " [ 1.29183344  0.70350291]\n",
      " [-1.33263351  0.35491921]]\n"
     ]
    }
   ],
   "source": [
    "print(np.random.normal(0,1 ,size=(5,2)))"
   ]
  },
  {
   "cell_type": "code",
   "execution_count": 181,
   "id": "a6a59cf0-ffe8-45ce-b5ad-ab13875df7b1",
   "metadata": {},
   "outputs": [],
   "source": [
    "a = np.random.randint(0, 12, size = (4,3))"
   ]
  },
  {
   "cell_type": "code",
   "execution_count": 183,
   "id": "e9022854-f519-4c22-9916-0adcca82f834",
   "metadata": {},
   "outputs": [
    {
     "name": "stdout",
     "output_type": "stream",
     "text": [
      "[[ 6  2  0]\n",
      " [ 3  4  7]\n",
      " [ 7  7 11]\n",
      " [ 6  3  2]]\n"
     ]
    }
   ],
   "source": [
    "print(a)"
   ]
  },
  {
   "cell_type": "code",
   "execution_count": 189,
   "id": "b39c0d5c-aa40-4bf1-8acc-be2efb50a8d5",
   "metadata": {},
   "outputs": [
    {
     "name": "stdout",
     "output_type": "stream",
     "text": [
      "58\n",
      "0\n",
      "11\n",
      "4.833333333333333\n",
      "2.91070819942883\n",
      "8.472222222222221\n"
     ]
    }
   ],
   "source": [
    "print(np.sum(a))\n",
    "print(np.min(a))\n",
    "print(np.max(a))\n",
    "print(np.mean(a))\n",
    "print(np.std(a))\n",
    "print(np.var(a))"
   ]
  },
  {
   "cell_type": "code",
   "execution_count": 193,
   "id": "f973d26e-ae12-4fce-baab-d8937d49e95a",
   "metadata": {},
   "outputs": [
    {
     "name": "stdout",
     "output_type": "stream",
     "text": [
      "[3 2 0]\n",
      "[0 3 7 2]\n"
     ]
    }
   ],
   "source": [
    "print(np.min(a, axis = 0))\n",
    "print(np.min(a, axis = 1))"
   ]
  }
 ],
 "metadata": {
  "kernelspec": {
   "display_name": "Python 3 (ipykernel)",
   "language": "python",
   "name": "python3"
  },
  "language_info": {
   "codemirror_mode": {
    "name": "ipython",
    "version": 3
   },
   "file_extension": ".py",
   "mimetype": "text/x-python",
   "name": "python",
   "nbconvert_exporter": "python",
   "pygments_lexer": "ipython3",
   "version": "3.12.4"
  }
 },
 "nbformat": 4,
 "nbformat_minor": 5
}
