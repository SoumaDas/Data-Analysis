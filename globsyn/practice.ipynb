{
 "cells": [
  {
   "cell_type": "code",
   "execution_count": 1,
   "id": "166a3530-8f00-4f63-9b13-2d3afd060d36",
   "metadata": {},
   "outputs": [],
   "source": [
    "import numpy as np"
   ]
  },
  {
   "cell_type": "code",
   "execution_count": 5,
   "id": "755b3888-c2f7-4d26-9e7c-6f5c8485def1",
   "metadata": {},
   "outputs": [
    {
     "data": {
      "text/plain": [
       "array([[1, 2, 3],\n",
       "       [4, 5, 6],\n",
       "       [7, 8, 9]])"
      ]
     },
     "execution_count": 5,
     "metadata": {},
     "output_type": "execute_result"
    }
   ],
   "source": [
    "a = np.arange(1,10).reshape(3,3)\n",
    "a"
   ]
  },
  {
   "cell_type": "code",
   "execution_count": 29,
   "id": "3ce3282f-02be-42b8-9755-63939be045e9",
   "metadata": {},
   "outputs": [],
   "source": [
    "y = np.diag(np.diag(a))"
   ]
  },
  {
   "cell_type": "code",
   "execution_count": 25,
   "id": "5a7dcdd2-5b5b-4b75-a65b-2679c2395377",
   "metadata": {},
   "outputs": [],
   "source": [
    "x = np.diag(np.diag(np.flipud(a)))"
   ]
  },
  {
   "cell_type": "code",
   "execution_count": 33,
   "id": "6785aba3-9c12-4dfc-a6b4-6aaecb19f36f",
   "metadata": {},
   "outputs": [],
   "source": [
    "z=np.flipud(x)"
   ]
  },
  {
   "cell_type": "code",
   "execution_count": 31,
   "id": "746adf56-c716-4e5d-8b9f-493ddac91424",
   "metadata": {},
   "outputs": [
    {
     "data": {
      "text/plain": [
       "array([[ 8,  0,  0],\n",
       "       [ 0, 10,  0],\n",
       "       [ 0,  0, 12]])"
      ]
     },
     "execution_count": 31,
     "metadata": {},
     "output_type": "execute_result"
    }
   ],
   "source": [
    "x+y"
   ]
  },
  {
   "cell_type": "code",
   "execution_count": null,
   "id": "f9bfc342-4f2b-48b1-a713-fee68b8b7fcf",
   "metadata": {},
   "outputs": [],
   "source": []
  }
 ],
 "metadata": {
  "kernelspec": {
   "display_name": "Python 3 (ipykernel)",
   "language": "python",
   "name": "python3"
  },
  "language_info": {
   "codemirror_mode": {
    "name": "ipython",
    "version": 3
   },
   "file_extension": ".py",
   "mimetype": "text/x-python",
   "name": "python",
   "nbconvert_exporter": "python",
   "pygments_lexer": "ipython3",
   "version": "3.12.4"
  }
 },
 "nbformat": 4,
 "nbformat_minor": 5
}
